{
 "cells": [
  {
   "cell_type": "code",
   "execution_count": 2,
   "metadata": {
    "collapsed": true
   },
   "outputs": [],
   "source": [
    "import pandas as pd\n",
    "import numpy as np\n",
    "import matplotlib.pyplot as plt"
   ]
  },
  {
   "cell_type": "code",
   "execution_count": 3,
   "outputs": [],
   "source": [
    "df = pd.read_csv('earthquake_data.csv')\n",
    "df.columns = ['General worry', 'Big One worry', 'Big One will occur in your future lifetime?', 'Earthquake experience','Have you ever taken any precautions against earthquakes?', 'Familiarity with San Andreas fault line', 'Familiarity with Yellowstone Supervolcano', 'Age','Gender','Household total earnings per year', 'US Region']"
   ],
   "metadata": {
    "collapsed": false
   }
  },
  {
   "cell_type": "code",
   "execution_count": 4,
   "outputs": [
    {
     "data": {
      "text/plain": "               US Region        Earthquake experience\n0            New England  Yes, one or more minor ones\n1     East North Central  Yes, one or more minor ones\n2                Pacific  Yes, one or more minor ones\n3     West South Central  Yes, one or more minor ones\n4        Middle Atlantic  Yes, one or more minor ones\n...                  ...                          ...\n1008             Pacific  Yes, one or more minor ones\n1009             Pacific  Yes, one or more major ones\n1010     Middle Atlantic  Yes, one or more minor ones\n1011  East North Central                           No\n1012                 NaN  Yes, one or more minor ones\n\n[1013 rows x 2 columns]",
      "text/html": "<div>\n<style scoped>\n    .dataframe tbody tr th:only-of-type {\n        vertical-align: middle;\n    }\n\n    .dataframe tbody tr th {\n        vertical-align: top;\n    }\n\n    .dataframe thead th {\n        text-align: right;\n    }\n</style>\n<table border=\"1\" class=\"dataframe\">\n  <thead>\n    <tr style=\"text-align: right;\">\n      <th></th>\n      <th>US Region</th>\n      <th>Earthquake experience</th>\n    </tr>\n  </thead>\n  <tbody>\n    <tr>\n      <th>0</th>\n      <td>New England</td>\n      <td>Yes, one or more minor ones</td>\n    </tr>\n    <tr>\n      <th>1</th>\n      <td>East North Central</td>\n      <td>Yes, one or more minor ones</td>\n    </tr>\n    <tr>\n      <th>2</th>\n      <td>Pacific</td>\n      <td>Yes, one or more minor ones</td>\n    </tr>\n    <tr>\n      <th>3</th>\n      <td>West South Central</td>\n      <td>Yes, one or more minor ones</td>\n    </tr>\n    <tr>\n      <th>4</th>\n      <td>Middle Atlantic</td>\n      <td>Yes, one or more minor ones</td>\n    </tr>\n    <tr>\n      <th>...</th>\n      <td>...</td>\n      <td>...</td>\n    </tr>\n    <tr>\n      <th>1008</th>\n      <td>Pacific</td>\n      <td>Yes, one or more minor ones</td>\n    </tr>\n    <tr>\n      <th>1009</th>\n      <td>Pacific</td>\n      <td>Yes, one or more major ones</td>\n    </tr>\n    <tr>\n      <th>1010</th>\n      <td>Middle Atlantic</td>\n      <td>Yes, one or more minor ones</td>\n    </tr>\n    <tr>\n      <th>1011</th>\n      <td>East North Central</td>\n      <td>No</td>\n    </tr>\n    <tr>\n      <th>1012</th>\n      <td>NaN</td>\n      <td>Yes, one or more minor ones</td>\n    </tr>\n  </tbody>\n</table>\n<p>1013 rows × 2 columns</p>\n</div>"
     },
     "execution_count": 4,
     "metadata": {},
     "output_type": "execute_result"
    }
   ],
   "source": [
    "experience = df[['US Region', 'Earthquake experience']]\n",
    "experience"
   ],
   "metadata": {
    "collapsed": false
   }
  },
  {
   "cell_type": "code",
   "execution_count": 5,
   "outputs": [
    {
     "data": {
      "text/plain": "               US Region        Earthquake experience\n1011  East North Central                           No\n587   East North Central  Yes, one or more minor ones\n581   East North Central  Yes, one or more minor ones\n578   East North Central                           No\n569   East North Central                           No\n...                  ...                          ...\n782                  NaN  Yes, one or more minor ones\n872                  NaN                          NaN\n984                  NaN                           No\n992                  NaN                          NaN\n1012                 NaN  Yes, one or more minor ones\n\n[1013 rows x 2 columns]",
      "text/html": "<div>\n<style scoped>\n    .dataframe tbody tr th:only-of-type {\n        vertical-align: middle;\n    }\n\n    .dataframe tbody tr th {\n        vertical-align: top;\n    }\n\n    .dataframe thead th {\n        text-align: right;\n    }\n</style>\n<table border=\"1\" class=\"dataframe\">\n  <thead>\n    <tr style=\"text-align: right;\">\n      <th></th>\n      <th>US Region</th>\n      <th>Earthquake experience</th>\n    </tr>\n  </thead>\n  <tbody>\n    <tr>\n      <th>1011</th>\n      <td>East North Central</td>\n      <td>No</td>\n    </tr>\n    <tr>\n      <th>587</th>\n      <td>East North Central</td>\n      <td>Yes, one or more minor ones</td>\n    </tr>\n    <tr>\n      <th>581</th>\n      <td>East North Central</td>\n      <td>Yes, one or more minor ones</td>\n    </tr>\n    <tr>\n      <th>578</th>\n      <td>East North Central</td>\n      <td>No</td>\n    </tr>\n    <tr>\n      <th>569</th>\n      <td>East North Central</td>\n      <td>No</td>\n    </tr>\n    <tr>\n      <th>...</th>\n      <td>...</td>\n      <td>...</td>\n    </tr>\n    <tr>\n      <th>782</th>\n      <td>NaN</td>\n      <td>Yes, one or more minor ones</td>\n    </tr>\n    <tr>\n      <th>872</th>\n      <td>NaN</td>\n      <td>NaN</td>\n    </tr>\n    <tr>\n      <th>984</th>\n      <td>NaN</td>\n      <td>No</td>\n    </tr>\n    <tr>\n      <th>992</th>\n      <td>NaN</td>\n      <td>NaN</td>\n    </tr>\n    <tr>\n      <th>1012</th>\n      <td>NaN</td>\n      <td>Yes, one or more minor ones</td>\n    </tr>\n  </tbody>\n</table>\n<p>1013 rows × 2 columns</p>\n</div>"
     },
     "execution_count": 5,
     "metadata": {},
     "output_type": "execute_result"
    }
   ],
   "source": [
    "experience.sort_values(by='US Region')"
   ],
   "metadata": {
    "collapsed": false
   }
  },
  {
   "cell_type": "code",
   "execution_count": 14,
   "outputs": [
    {
     "data": {
      "text/plain": "US Region           Earthquake experience      \nEast North Central  No                             61\n                    Yes, one or more major ones     3\n                    Yes, one or more minor ones    76\nEast South Central  No                             20\n                    Yes, one or more minor ones    20\nMiddle Atlantic     No                             48\n                    Yes, one or more major ones     8\n                    Yes, one or more minor ones    81\nMountain            No                             16\n                    Yes, one or more major ones    22\n                    Yes, one or more minor ones    29\nNew England         No                             34\n                    Yes, one or more major ones     3\n                    Yes, one or more minor ones    26\nPacific             No                             19\n                    Yes, one or more major ones    93\n                    Yes, one or more minor ones    94\nSouth Atlantic      No                             60\n                    Yes, one or more major ones    10\n                    Yes, one or more minor ones    85\nWest North Central  No                             47\n                    Yes, one or more major ones     4\n                    Yes, one or more minor ones    20\nWest South Central  No                             46\n                    Yes, one or more major ones    13\n                    Yes, one or more minor ones    40\nName: Earthquake experience, dtype: int64"
     },
     "execution_count": 14,
     "metadata": {},
     "output_type": "execute_result"
    }
   ],
   "source": [
    "exper_group = experience.groupby(['US Region', 'Earthquake experience'])['Earthquake experience'].count()\n",
    "exper_group"
   ],
   "metadata": {
    "collapsed": false
   }
  }
 ],
 "metadata": {
  "kernelspec": {
   "display_name": "Python 3",
   "language": "python",
   "name": "python3"
  },
  "language_info": {
   "codemirror_mode": {
    "name": "ipython",
    "version": 2
   },
   "file_extension": ".py",
   "mimetype": "text/x-python",
   "name": "python",
   "nbconvert_exporter": "python",
   "pygments_lexer": "ipython2",
   "version": "2.7.6"
  }
 },
 "nbformat": 4,
 "nbformat_minor": 0
}

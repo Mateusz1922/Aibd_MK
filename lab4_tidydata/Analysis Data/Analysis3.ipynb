{
 "cells": [
  {
   "cell_type": "code",
   "execution_count": 2,
   "metadata": {
    "collapsed": true
   },
   "outputs": [],
   "source": [
    "import pandas as pd\n",
    "import numpy as np\n",
    "import matplotlib.pyplot as plt"
   ]
  },
  {
   "cell_type": "code",
   "execution_count": 3,
   "outputs": [],
   "source": [
    "df = pd.read_csv('earthquake_data.csv')\n",
    "df.columns = ['General worry', 'Big One worry', 'Big One will occur in your future lifetime?', 'Earthquake experience','Have you ever taken any precautions against earthquakes?', 'Familiarity with San Andreas fault line', 'Familiarity with Yellowstone Supervolcano', 'Age','Gender','Household total earnings per year', 'US Region']"
   ],
   "metadata": {
    "collapsed": false
   }
  },
  {
   "cell_type": "code",
   "execution_count": 11,
   "outputs": [
    {
     "data": {
      "text/plain": "Household total earnings per year  General worry       Big One worry     \n$0 to $9,999                       Extremely worried   Extremely worried      8\n                                                       Not at all worried     1\n                                                       Somewhat worried       1\n                                                       Very worried           1\n                                   Not at all worried  Not at all worried    17\n                                                                             ..\nPrefer not to answer               Somewhat worried    Very worried           8\n                                   Very worried        Extremely worried      4\n                                                       Not at all worried     1\n                                                       Somewhat worried       1\n                                                       Very worried           5\nName: General worry, Length: 136, dtype: int64"
     },
     "execution_count": 11,
     "metadata": {},
     "output_type": "execute_result"
    }
   ],
   "source": [
    "worry = df[['General worry', 'Big One worry', 'Household total earnings per year']]\n",
    "# worry.index = worry['Household total earnings per year']\n",
    "# worry.drop('Household total earnings per year', axis=1, inplace=True)\n",
    "worry.groupby(['Household total earnings per year', 'General worry', 'Big One worry'])['General worry'].count()"
   ],
   "metadata": {
    "collapsed": false
   }
  },
  {
   "cell_type": "markdown",
   "source": [
    "Suma osób przestraszonych ogólnie trzęsieniami ziemi oraz przerażonych wystąpieniem szczególnego trzęsienia o wielkim stopniu w skali Richtera."
   ],
   "metadata": {
    "collapsed": false
   }
  }
 ],
 "metadata": {
  "kernelspec": {
   "display_name": "Python 3",
   "language": "python",
   "name": "python3"
  },
  "language_info": {
   "codemirror_mode": {
    "name": "ipython",
    "version": 2
   },
   "file_extension": ".py",
   "mimetype": "text/x-python",
   "name": "python",
   "nbconvert_exporter": "python",
   "pygments_lexer": "ipython2",
   "version": "2.7.6"
  }
 },
 "nbformat": 4,
 "nbformat_minor": 0
}

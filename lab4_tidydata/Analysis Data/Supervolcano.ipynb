{
 "cells": [
  {
   "cell_type": "code",
   "execution_count": 3,
   "metadata": {
    "collapsed": true
   },
   "outputs": [],
   "source": [
    "import pandas as pd\n",
    "import numpy as np\n",
    "import matplotlib.pyplot as plt"
   ]
  },
  {
   "cell_type": "code",
   "execution_count": 4,
   "outputs": [
    {
     "name": "stderr",
     "output_type": "stream",
     "text": [
      "C:\\Users\\Mateusz\\AppData\\Local\\Temp\\ipykernel_15556\\2726805433.py:6: SettingWithCopyWarning: \n",
      "A value is trying to be set on a copy of a slice from a DataFrame\n",
      "\n",
      "See the caveats in the documentation: https://pandas.pydata.org/pandas-docs/stable/user_guide/indexing.html#returning-a-view-versus-a-copy\n",
      "  yellowstone.drop('US Region', axis=1, inplace=True)\n"
     ]
    },
    {
     "data": {
      "text/plain": "                   Familiarity with Yellowstone Supervolcano  \\\nUS Region                                                      \nNew England                                  Not so familiar   \nEast North Central                       Not at all familiar   \nPacific                                    Somewhat familiar   \nWest South Central                           Not so familiar   \nMiddle Atlantic                           Extremely familiar   \n\n                   Household total earnings per year  \nUS Region                                             \nNew England                     Prefer not to answer  \nEast North Central                $75,000 to $99,999  \nPacific                           $10,000 to $24,999  \nWest South Central                $25,000 to $49,999  \nMiddle Atlantic                      $200,000 and up  ",
      "text/html": "<div>\n<style scoped>\n    .dataframe tbody tr th:only-of-type {\n        vertical-align: middle;\n    }\n\n    .dataframe tbody tr th {\n        vertical-align: top;\n    }\n\n    .dataframe thead th {\n        text-align: right;\n    }\n</style>\n<table border=\"1\" class=\"dataframe\">\n  <thead>\n    <tr style=\"text-align: right;\">\n      <th></th>\n      <th>Familiarity with Yellowstone Supervolcano</th>\n      <th>Household total earnings per year</th>\n    </tr>\n    <tr>\n      <th>US Region</th>\n      <th></th>\n      <th></th>\n    </tr>\n  </thead>\n  <tbody>\n    <tr>\n      <th>New England</th>\n      <td>Not so familiar</td>\n      <td>Prefer not to answer</td>\n    </tr>\n    <tr>\n      <th>East North Central</th>\n      <td>Not at all familiar</td>\n      <td>$75,000 to $99,999</td>\n    </tr>\n    <tr>\n      <th>Pacific</th>\n      <td>Somewhat familiar</td>\n      <td>$10,000 to $24,999</td>\n    </tr>\n    <tr>\n      <th>West South Central</th>\n      <td>Not so familiar</td>\n      <td>$25,000 to $49,999</td>\n    </tr>\n    <tr>\n      <th>Middle Atlantic</th>\n      <td>Extremely familiar</td>\n      <td>$200,000 and up</td>\n    </tr>\n  </tbody>\n</table>\n</div>"
     },
     "execution_count": 4,
     "metadata": {},
     "output_type": "execute_result"
    }
   ],
   "source": [
    "df = pd.read_csv('earthquake_data.csv')\n",
    "df.columns = ['General worry', 'Big One worry', 'Big One will occur in your future lifetime?', 'Earthquake experience','Have you ever taken any precautions against earthquakes?', 'Familiarity with San Andreas fault line', 'Familiarity with Yellowstone Supervolcano', 'Age','Gender','Household total earnings per year', 'US Region']\n",
    "yellowstone = df[['Familiarity with Yellowstone Supervolcano', 'Household total earnings per year', 'US Region']]\n",
    "yellowstone.head()\n",
    "yellowstone.index = yellowstone['US Region']\n",
    "yellowstone.drop('US Region', axis=1, inplace=True)\n",
    "yellowstone.head()"
   ],
   "metadata": {
    "collapsed": false
   }
  },
  {
   "cell_type": "markdown",
   "source": [
    "W tej tabeli widzimy, czy ludzie znają Superwulkan w parku Yellowstone oraz dodatkowo gdzie mieszkają oraz jakie są ich zarobki."
   ],
   "metadata": {
    "collapsed": false
   }
  },
  {
   "cell_type": "code",
   "execution_count": 5,
   "outputs": [
    {
     "data": {
      "text/plain": "       Familiarity with Yellowstone Supervolcano  \\\ncount                                       1001   \nunique                                         5   \ntop                            Somewhat familiar   \nfreq                                         280   \n\n       Household total earnings per year  \ncount                               1001  \nunique                                11  \ntop                   $50,000 to $74,999  \nfreq                                 175  ",
      "text/html": "<div>\n<style scoped>\n    .dataframe tbody tr th:only-of-type {\n        vertical-align: middle;\n    }\n\n    .dataframe tbody tr th {\n        vertical-align: top;\n    }\n\n    .dataframe thead th {\n        text-align: right;\n    }\n</style>\n<table border=\"1\" class=\"dataframe\">\n  <thead>\n    <tr style=\"text-align: right;\">\n      <th></th>\n      <th>Familiarity with Yellowstone Supervolcano</th>\n      <th>Household total earnings per year</th>\n    </tr>\n  </thead>\n  <tbody>\n    <tr>\n      <th>count</th>\n      <td>1001</td>\n      <td>1001</td>\n    </tr>\n    <tr>\n      <th>unique</th>\n      <td>5</td>\n      <td>11</td>\n    </tr>\n    <tr>\n      <th>top</th>\n      <td>Somewhat familiar</td>\n      <td>$50,000 to $74,999</td>\n    </tr>\n    <tr>\n      <th>freq</th>\n      <td>280</td>\n      <td>175</td>\n    </tr>\n  </tbody>\n</table>\n</div>"
     },
     "execution_count": 5,
     "metadata": {},
     "output_type": "execute_result"
    }
   ],
   "source": [
    "yellowstone.describe()"
   ],
   "metadata": {
    "collapsed": false
   }
  }
 ],
 "metadata": {
  "kernelspec": {
   "display_name": "Python 3",
   "language": "python",
   "name": "python3"
  },
  "language_info": {
   "codemirror_mode": {
    "name": "ipython",
    "version": 2
   },
   "file_extension": ".py",
   "mimetype": "text/x-python",
   "name": "python",
   "nbconvert_exporter": "python",
   "pygments_lexer": "ipython2",
   "version": "2.7.6"
  }
 },
 "nbformat": 4,
 "nbformat_minor": 0
}
